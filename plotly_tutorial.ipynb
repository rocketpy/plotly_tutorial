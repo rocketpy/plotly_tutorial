{
 "cells": [
  {
   "cell_type": "code",
   "execution_count": null,
   "metadata": {},
   "outputs": [],
   "source": [
    "# https://plot.ly/python/  - examples (maps , charts , etc.)\n",
    "# https://plot.ly/python/getting-started/\n",
    "# pip install plotly "
   ]
  },
  {
   "cell_type": "code",
   "execution_count": null,
   "metadata": {},
   "outputs": [],
   "source": [
    "# for Online plotting , create a free account : https://plot.ly/Auth/login/?action=signup&next=%2Fsettings%2Fapi#/\n",
    "\n",
    "import plotly \n",
    "plotly.tools.set_credentials_file(username='DemoAccount', api_key='lr1c37zw81')"
   ]
  },
  {
   "cell_type": "code",
   "execution_count": null,
   "metadata": {},
   "outputs": [],
   "source": [
    "# initialization for Offline plotting\n",
    "# Check your Plotly version, version 1.9.4+ is needed for offline plotting\n",
    "\n",
    "\"\"\"\n",
    "use  plotly.offline.plot()  to create and standalone HTML that is saved locally and opened inside your web browser.\n",
    "use  plotly.offline.iplot()  when working offline in a Jupyter Notebook to display the plot in the notebook.\n",
    "\"\"\"\n",
    "\n",
    "# learn more by calling help():\n",
    "\n",
    "import plotly\n",
    "help(plotly.offline.plot)"
   ]
  },
  {
   "cell_type": "code",
   "execution_count": null,
   "metadata": {},
   "outputs": [],
   "source": [
    "# to create your first offline Plotly graph\n",
    "\n",
    "import plotly\n",
    "import plotly.graph_objs as go\n",
    "\n",
    "plotly.offline.plot({\n",
    "    \"data\": [go.Scatter(x=[1, 2, 3, 4], y=[4, 3, 2, 1])],\n",
    "    \"layout\": go.Layout(title=\"hello world\")\n",
    "}, auto_open=True)"
   ]
  },
  {
   "cell_type": "code",
   "execution_count": null,
   "metadata": {},
   "outputs": [],
   "source": [
    "# When using plotly.offline.iplot to plot offline in Jupyter Notebooks, there is an additional initialization step\n",
    "# of running: plotly.offline.init_notebook_mode() at the start of each notebook session. \n",
    "\n",
    "import plotly\n",
    "import plotly.graph_objs as go\n",
    "\n",
    "plotly.offline.init_notebook_mode(connected=True)\n",
    "\n",
    "plotly.offline.iplot({\n",
    "    \"data\": [go.Scatter(x=[1, 2, 3, 4], y=[4, 3, 2, 1])],\n",
    "    \"layout\": go.Layout(title=\"hello world\")\n",
    "})"
   ]
  },
  {
   "cell_type": "code",
   "execution_count": null,
   "metadata": {},
   "outputs": [],
   "source": [
    "# using Plotly with Pandas\n",
    "\n",
    "import pandas as pd\n",
    "import plotly.plotly as py\n",
    "import plotly.graph_objs as go\n",
    "\n",
    "\n",
    "df = pd.read_csv('https:// ... .csv')\n",
    "\n",
    "fig = {\n",
    "    'data': [\n",
    "          {\n",
    "          'x': df.gdpPercap, \n",
    "            'y': df.lifeExp, \n",
    "            'text': df.country, \n",
    "            'mode': 'markers', \n",
    "            'name': '2007'},\n",
    "    ],\n",
    "    'layout': {\n",
    "        'xaxis': {'title': 'GDP per Capita', 'type': 'log'},\n",
    "        'yaxis': {'title': \"Life Expectancy\"}\n",
    "    }\n",
    "}\n",
    "\n",
    "py.iplot(fig, filename='pandas-multiple-scatter')"
   ]
  }
 ],
 "metadata": {
  "kernelspec": {
   "display_name": "Python 3",
   "language": "python",
   "name": "python3"
  },
  "language_info": {
   "codemirror_mode": {
    "name": "ipython",
    "version": 3
   },
   "file_extension": ".py",
   "mimetype": "text/x-python",
   "name": "python",
   "nbconvert_exporter": "python",
   "pygments_lexer": "ipython3",
   "version": "3.6.2"
  }
 },
 "nbformat": 4,
 "nbformat_minor": 2
}
